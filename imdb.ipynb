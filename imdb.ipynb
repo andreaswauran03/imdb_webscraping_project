{
 "cells": [
  {
   "cell_type": "code",
   "execution_count": 216,
   "id": "7a888e1f",
   "metadata": {},
   "outputs": [],
   "source": [
    "import pandas as pd\n",
    "\n",
    "data = 'C:/Users/Andreas Wauran/PycharmProjects/IMDB_Movies/Scrape/top1000movies_raw.csv'"
   ]
  },
  {
   "cell_type": "code",
   "execution_count": 217,
   "id": "a1092280",
   "metadata": {},
   "outputs": [],
   "source": [
    "# Read CSV Data"
   ]
  },
  {
   "cell_type": "code",
   "execution_count": 218,
   "id": "8e236a57",
   "metadata": {},
   "outputs": [
    {
     "data": {
      "text/plain": [
       "Index(['budget', 'content_rating', 'critic_review', 'director', 'duration',\n",
       "       'gross_us_canada', 'gross_worldwide', 'language', 'metascore',\n",
       "       'opening_weekend_us_canada', 'origin', 'production_company', 'rating',\n",
       "       'release_date', 'title', 'total_rating', 'user_review',\n",
       "       'year_released'],\n",
       "      dtype='object')"
      ]
     },
     "execution_count": 218,
     "metadata": {},
     "output_type": "execute_result"
    }
   ],
   "source": [
    "df = pd.read_csv(data)\n",
    "df.columns"
   ]
  },
  {
   "cell_type": "code",
   "execution_count": 219,
   "id": "12283325",
   "metadata": {},
   "outputs": [],
   "source": [
    "# Create New Budget Column based on Budget Column (just contains a number of budget)"
   ]
  },
  {
   "cell_type": "code",
   "execution_count": 220,
   "id": "3346f5f0",
   "metadata": {},
   "outputs": [],
   "source": [
    "df[\"new_budget\"] = df[\"budget\"].str.replace(\",\", \"\").str.extract(r'(\\d+)').fillna(0)\n",
    "df[\"new_budget\"] = df[\"new_budget\"].astype('int64')"
   ]
  },
  {
   "cell_type": "code",
   "execution_count": 221,
   "id": "7832a171",
   "metadata": {},
   "outputs": [],
   "source": [
    "# Create Sign Budget Column to split a currency code based on Budget Column"
   ]
  },
  {
   "cell_type": "code",
   "execution_count": 222,
   "id": "efc15656",
   "metadata": {},
   "outputs": [],
   "source": [
    "df[\"sign_budget\"] = df[\"budget\"].str.replace(\",\", \"\").str.replace(\"(estimated)\", \"\").str.extract(r\"(\\D+)\")\n",
    "df[\"sign_budget\"] = df[\"sign_budget\"].str.replace(\"\\xa0\", \"\").fillna(\"-\")"
   ]
  },
  {
   "cell_type": "code",
   "execution_count": 223,
   "id": "0b55df84",
   "metadata": {},
   "outputs": [],
   "source": [
    "# Convert budget currency to dollar currency and Create a new column named budget ($)"
   ]
  },
  {
   "cell_type": "code",
   "execution_count": 224,
   "id": "b48d6778",
   "metadata": {},
   "outputs": [],
   "source": [
    "convertion = {\n",
    "    \"$\":1,\n",
    "    \"¥\":0.0072,\n",
    "    \"R$\":0.052292,\n",
    "    \"₹\":0.012,\n",
    "    \"£\":1.25,\n",
    "    \"A$\":0.67675,\n",
    "    \"€\":1.09,\n",
    "    \"CA$\":0.74,\n",
    "    \"FRF\":0.1659,\n",
    "    \"ESP\":0.006537,\n",
    "    \"SEK\":0.0963,\n",
    "    \"DEM\":0.5561,\n",
    "    \"ITL\":0.0005617,\n",
    "    \"DKK\":0.146,\n",
    "    \"RUR\":0.0126,\n",
    "    \"TRL\":0.0000000508,\n",
    "    \"₩\":0.000747,\n",
    "    \"-\":0\n",
    "}\n",
    "\n",
    "x = []\n",
    "\n",
    "for index, row in df.iterrows():\n",
    "    code = row['sign_budget']\n",
    "    nilai = row['new_budget']\n",
    "    x.append(nilai * convertion[code])\n",
    "    \n",
    "df[\"budget ($)\"] = x\n",
    "df[\"budget ($)\"] = df[\"budget ($)\"].astype(\"int64\")\n",
    "\n",
    "df = df.drop([\"budget\", \"sign_budget\", \"new_budget\"], axis=1)"
   ]
  },
  {
   "cell_type": "code",
   "execution_count": 225,
   "id": "7ed83276",
   "metadata": {},
   "outputs": [],
   "source": [
    "# Convert duration Column to Minutes and Create a new column named \"duration (min)\""
   ]
  },
  {
   "cell_type": "code",
   "execution_count": 226,
   "id": "8dee5f82",
   "metadata": {},
   "outputs": [],
   "source": [
    "duration = []\n",
    "\n",
    "for i in df['duration']:\n",
    "    if \"h\" in i:\n",
    "        hours = int(i.split(\" \")[0].replace(\"h\", \"\")) * 60\n",
    "    else:\n",
    "        hours = 0\n",
    "    \n",
    "    if len(i.split(\" \")) == 2: \n",
    "        minutes = int(i.split(\" \")[1].replace(\"m\", \"\"))\n",
    "    else:\n",
    "        minutes = 0\n",
    "    duration.append(hours + minutes)"
   ]
  },
  {
   "cell_type": "code",
   "execution_count": 227,
   "id": "c0c1525a",
   "metadata": {},
   "outputs": [],
   "source": [
    "df[\"duration (min)\"] = duration\n",
    "df = df.drop([\"duration\"], axis=1)"
   ]
  },
  {
   "cell_type": "code",
   "execution_count": 228,
   "id": "df38ffb9",
   "metadata": {},
   "outputs": [],
   "source": [
    "# Convert rating type column and multipled each values with 10"
   ]
  },
  {
   "cell_type": "code",
   "execution_count": 229,
   "id": "466ece9c",
   "metadata": {},
   "outputs": [],
   "source": [
    "df[\"rating\"] = df[\"rating\"]*10\n",
    "df[\"rating\"] = df[\"rating\"].astype(int)"
   ]
  },
  {
   "cell_type": "code",
   "execution_count": 230,
   "id": "63b35b6e",
   "metadata": {},
   "outputs": [],
   "source": [
    "# Remove $ in gross_us_canada column"
   ]
  },
  {
   "cell_type": "code",
   "execution_count": 231,
   "id": "75d05fa9",
   "metadata": {},
   "outputs": [],
   "source": [
    "df[\"gross_us_canada ($)\"] = df[\"gross_us_canada\"].str.replace(\",\", \"\").str.extract(r\"(\\d+)\").fillna(0)\n",
    "df[\"gross_us_canada ($)\"] = df['gross_us_canada ($)'].astype(\"int64\")\n",
    "df = df.drop([\"gross_us_canada\"], axis=1)"
   ]
  },
  {
   "cell_type": "code",
   "execution_count": 232,
   "id": "c7b5bb76",
   "metadata": {},
   "outputs": [],
   "source": [
    "# Remove $ in gross_worldwide column"
   ]
  },
  {
   "cell_type": "code",
   "execution_count": 233,
   "id": "22eeaaab",
   "metadata": {},
   "outputs": [],
   "source": [
    "df[\"gross_worldwide ($)\"] = df[\"gross_worldwide\"].str.replace(\",\", \"\").str.extract(r\"(\\d+)\").fillna(0)\n",
    "df[\"gross_worldwide ($)\"] = df['gross_worldwide ($)'].astype(\"int64\")\n",
    "df = df.drop([\"gross_worldwide\"], axis=1)"
   ]
  },
  {
   "cell_type": "code",
   "execution_count": 234,
   "id": "7d45f21b",
   "metadata": {},
   "outputs": [],
   "source": [
    "# Remove $ in gross_worldwide column"
   ]
  },
  {
   "cell_type": "code",
   "execution_count": 235,
   "id": "be8343ec",
   "metadata": {},
   "outputs": [],
   "source": [
    "df[\"opening_weekend_us_canada ($)\"] = df[\"opening_weekend_us_canada\"].str.replace(\",\", \"\").str.extract(r\"(\\d+)\").fillna(0)\n",
    "df[\"opening_weekend_us_canada ($)\"] = df['opening_weekend_us_canada ($)'].astype(\"int64\")\n",
    "df = df.drop([\"opening_weekend_us_canada\"], axis=1)"
   ]
  },
  {
   "cell_type": "code",
   "execution_count": 236,
   "id": "45254b4d",
   "metadata": {},
   "outputs": [],
   "source": [
    "# Create Function to convert M and K in total_rating and user_review column"
   ]
  },
  {
   "cell_type": "code",
   "execution_count": 237,
   "id": "16c061ba",
   "metadata": {},
   "outputs": [],
   "source": [
    "def convert_to_numeric(value):\n",
    "    if value[-1] == 'K':\n",
    "        return int(float(value[:-1]) * 1000)\n",
    "    elif value[-1] == 'M':\n",
    "        return int(float(value[:-1]) * 1000000)\n",
    "    else:\n",
    "        return int(value)"
   ]
  },
  {
   "cell_type": "code",
   "execution_count": 238,
   "id": "e4762c40",
   "metadata": {},
   "outputs": [],
   "source": [
    "df['total_rating'] = df['total_rating'].apply(convert_to_numeric)"
   ]
  },
  {
   "cell_type": "code",
   "execution_count": 239,
   "id": "22c7d2d4",
   "metadata": {},
   "outputs": [],
   "source": [
    "df[\"user_review\"] = df[\"user_review\"].apply(convert_to_numeric)"
   ]
  },
  {
   "cell_type": "code",
   "execution_count": 240,
   "id": "7e7e6752",
   "metadata": {},
   "outputs": [],
   "source": [
    "# Convert released date column type to date type "
   ]
  },
  {
   "cell_type": "code",
   "execution_count": 241,
   "id": "cc2c032c",
   "metadata": {},
   "outputs": [],
   "source": [
    "date_list = []\n",
    "\n",
    "for date in df[\"release_date\"]:\n",
    "    date_list.append(date.split(\"(\")[0].strip())\n",
    "\n",
    "df[\"release_date\"] = date_list\n",
    "df[\"release_date\"] = pd.to_datetime(df[\"release_date\"], format='%B %d, %Y', errors='coerce')"
   ]
  },
  {
   "cell_type": "code",
   "execution_count": 242,
   "id": "23a889e1",
   "metadata": {},
   "outputs": [],
   "source": [
    "# Remove row duplicate in director column "
   ]
  },
  {
   "cell_type": "code",
   "execution_count": 243,
   "id": "a7b7c119",
   "metadata": {},
   "outputs": [],
   "source": [
    "df['director'] = df['director'].fillna(\"\").str.split(',').str[0]"
   ]
  },
  {
   "cell_type": "code",
   "execution_count": 244,
   "id": "ee9f803e",
   "metadata": {},
   "outputs": [],
   "source": [
    "# Reindex column dataframe and create new csv file"
   ]
  },
  {
   "cell_type": "code",
   "execution_count": 245,
   "id": "c8ea62f7",
   "metadata": {},
   "outputs": [],
   "source": [
    "new_df = df.reindex(columns=[\"title\", \"content_rating\", \"year_released\",\"director\", \"language\", \"origin\", \"production_company\",\n",
    "                         \"release_date\", \"duration (min)\", \"rating\", \"metascore\", \"user_review\", \"critic_review\",\n",
    "                         \"total_rating\", \"budget ($)\", \"gross_worldwide ($)\", \"gross_us_canada ($)\",\n",
    "                         \"opening_weekend_us_canada ($)\"])\n",
    "new_df.sort_values(\"title\")\n",
    "new_df.to_csv(\"top1000movies_imdb.csv\", index=False)"
   ]
  }
 ],
 "metadata": {
  "kernelspec": {
   "display_name": "Python 3 (ipykernel)",
   "language": "python",
   "name": "python3"
  },
  "language_info": {
   "codemirror_mode": {
    "name": "ipython",
    "version": 3
   },
   "file_extension": ".py",
   "mimetype": "text/x-python",
   "name": "python",
   "nbconvert_exporter": "python",
   "pygments_lexer": "ipython3",
   "version": "3.10.0"
  }
 },
 "nbformat": 4,
 "nbformat_minor": 5
}
